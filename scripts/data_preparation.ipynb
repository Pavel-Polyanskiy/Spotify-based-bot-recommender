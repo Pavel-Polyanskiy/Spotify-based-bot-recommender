{
 "cells": [
  {
   "cell_type": "code",
   "execution_count": 2,
   "metadata": {},
   "outputs": [],
   "source": [
    "import requests\n",
    "import re\n",
    "import scipy\n",
    "import spotipy\n",
    "import warnings\n",
    "import pandas as pd\n",
    "import numpy as np\n",
    "import seaborn as sns\n",
    "import matplotlib.pyplot as plt\n",
    "from bs4 import BeautifulSoup\n",
    "from spotipy.oauth2 import SpotifyClientCredentials\n",
    "from nltk.stem import WordNetLemmatizer \n",
    "from sklearn.metrics.pairwise import cosine_similarity\n",
    "from scipy import sparse\n",
    "from nltk.corpus import stopwords"
   ]
  },
  {
   "cell_type": "code",
   "execution_count": 3,
   "metadata": {},
   "outputs": [],
   "source": [
    "warnings.filterwarnings('ignore')"
   ]
  },
  {
   "cell_type": "code",
   "execution_count": 4,
   "metadata": {},
   "outputs": [],
   "source": [
    "#authentication\n",
    "id = '7b8a31dce5f24570b9fafea7b08cf5d6' #7b8a31dce5f24570b9fafea7b08cf5d6\n",
    "secret = '234a689c485f49c1b23261e0df9a8e67' #234a689c485f49c1b23261e0df9a8e67\n",
    "\n",
    "client_credentials_manager = SpotifyClientCredentials(client_id = id, client_secret = secret)\n",
    "sp = spotipy.Spotify(client_credentials_manager = client_credentials_manager)"
   ]
  },
  {
   "cell_type": "markdown",
   "metadata": {},
   "source": [
    "# Tracks characteristics"
   ]
  },
  {
   "cell_type": "markdown",
   "metadata": {},
   "source": [
    "artist name -> artist id -> artist albums -> artist tracks -> tracks characteristics"
   ]
  },
  {
   "cell_type": "code",
   "execution_count": 1273,
   "metadata": {},
   "outputs": [],
   "source": [
    "#artist names\n",
    "artists_df = pd.read_csv('artists.csv')\n",
    "artists_list = artists_df.values.tolist()\n",
    "artists_list = np.squeeze(artists_list, axis=(1,)).tolist()"
   ]
  },
  {
   "cell_type": "code",
   "execution_count": 1277,
   "metadata": {},
   "outputs": [
    {
     "name": "stdout",
     "output_type": "stream",
     "text": [
      "344\n"
     ]
    }
   ],
   "source": [
    "#artist id\n",
    "artists_ids = []\n",
    "for artist in artists_list:\n",
    "    try:\n",
    "        results = sp.search(q = artist, limit=3, type = 'artist')\n",
    "        artist_id = results['artists']['items'][0]['id']\n",
    "    except:\n",
    "        artist_id = None\n",
    "    finally:\n",
    "        artists_ids.append(artist_id)\n",
    "\n",
    "print(len(artists_ids)) "
   ]
  },
  {
   "cell_type": "code",
   "execution_count": 1278,
   "metadata": {},
   "outputs": [],
   "source": [
    "artists_df['id'] = artists_ids"
   ]
  },
  {
   "cell_type": "code",
   "execution_count": 1296,
   "metadata": {},
   "outputs": [],
   "source": [
    "#artist albums\n",
    "albums_count = []\n",
    "albums_ids = []\n",
    "for id in artists_df['id']:\n",
    "    album_ids = [el['id'] for el in sp.artist_albums(id)['items']]\n",
    "    albums_ids.append(album_ids)\n",
    "    albums_count.append(len(album_ids))"
   ]
  },
  {
   "cell_type": "code",
   "execution_count": 1300,
   "metadata": {},
   "outputs": [],
   "source": [
    "artists_df['albums_ids'] = albums_ids\n",
    "artists_df['albums_count'] = albums_count"
   ]
  },
  {
   "cell_type": "code",
   "execution_count": 1340,
   "metadata": {},
   "outputs": [],
   "source": [
    "#album tracks\n",
    "for album_list in artists_df['albums_ids'][:2]:\n",
    "    for album_id in album_list[:2]:\n",
    "        try:\n",
    "            album = sp.album_tracks(album_id)\n",
    "            tracks_data = get_tracks_info(album)\n",
    "            data.append(tracks_data)\n",
    "        except:\n",
    "            continue\n",
    "\n",
    "        "
   ]
  },
  {
   "cell_type": "code",
   "execution_count": 1307,
   "metadata": {},
   "outputs": [],
   "source": [
    "#sample example\n",
    "results = sp.search(q='monster', limit=10, type = 'track')"
   ]
  },
  {
   "cell_type": "code",
   "execution_count": 1312,
   "metadata": {},
   "outputs": [],
   "source": [
    "def get_tracks_info(results): #input as dict from sp.search\n",
    "\n",
    "    danceability = []\n",
    "    energy = []\n",
    "    key = []\n",
    "    loudness = []\n",
    "    speechiness = []\n",
    "    acousticness = []\n",
    "    instrumentalness = []\n",
    "    liveness = []\n",
    "    valence = []\n",
    "    tempo = []\n",
    "    ids = []\n",
    "    artists = []\n",
    "    song_names = []\n",
    "\n",
    "    for i in results['items']:\n",
    "        for x in sp.audio_features(i['id']):\n",
    "            danceability.append(x['danceability'])\n",
    "            energy.append(x['energy'])\n",
    "            key.append(x['key'])\n",
    "            loudness.append(x['loudness'])\n",
    "            speechiness.append(x['speechiness'])\n",
    "            acousticness.append(x['acousticness'])\n",
    "            instrumentalness.append(x['instrumentalness'])\n",
    "            liveness.append(x['liveness'])\n",
    "            valence.append(x['valence'])\n",
    "            tempo.append(x['tempo'])\n",
    "            ids.append(i['id'])\n",
    "        artists.append(i['artists'][0]['name'])\n",
    "        song_names.append(i['name'])\n",
    "\n",
    "    tracks_info = pd.DataFrame({\n",
    "    'artist': artists,\n",
    "    'song_name': song_names,\n",
    "    'danceability':danceability,\n",
    "    'energy':energy,\n",
    "    'key':key,\n",
    "    'loudness':loudness,\n",
    "    'speechiness':speechiness,\n",
    "    'acousticness':acousticness,\n",
    "    'instrumentalness':instrumentalness,\n",
    "    'liveness':liveness,\n",
    "    'valence':valence,\n",
    "    'tempo':tempo,\n",
    "    },\n",
    "    index = ids)\n",
    "    \n",
    "    tracks_info.index.name = 'track_id'\n",
    "\n",
    "    return tracks_info"
   ]
  },
  {
   "cell_type": "code",
   "execution_count": 1181,
   "metadata": {},
   "outputs": [],
   "source": [
    "tracks_df = get_tracks_info(results)"
   ]
  },
  {
   "cell_type": "code",
   "execution_count": 8,
   "metadata": {},
   "outputs": [],
   "source": [
    "tracks_df = pd.read_csv('cb_data.csv', index_col = ['track_id'])\n",
    "tracks_df.drop(['Unnamed: 0', 'genre1', 'genre2', 'cluster_means', 'clust', 'genre', 'p'], axis = 1, inplace = True)"
   ]
  },
  {
   "cell_type": "code",
   "execution_count": 9,
   "metadata": {},
   "outputs": [],
   "source": [
    "id2track = tracks_df.iloc[:, :2]\n",
    "id2track['full_name'] = id2track['artist'] + ' ' + id2track['song_name']"
   ]
  },
  {
   "cell_type": "markdown",
   "metadata": {},
   "source": [
    "# Lyrics"
   ]
  },
  {
   "cell_type": "code",
   "execution_count": 1183,
   "metadata": {},
   "outputs": [],
   "source": [
    "#lyrics for single artist-song pair\n",
    "def get_lyrics(artist, song_name):\n",
    "    artist_name = str(artist.replace(' ','-')) if ' ' in artist else str(artist)\n",
    "    song_name = str(song_name.replace(' ','-')) if ' ' in song_name else str(song_name)\n",
    "    page = requests.get('https://genius.com/'+ artist_name + '-' + song_name + '-' + 'lyrics')\n",
    "    html = BeautifulSoup(page.text, 'html.parser')\n",
    "    lyrics = html.find(\"div\", class_=\"Lyrics__Container-sc-1ynbvzw-6 jYfhrf\")\n",
    "    return lyrics"
   ]
  },
  {
   "cell_type": "code",
   "execution_count": 1184,
   "metadata": {},
   "outputs": [],
   "source": [
    "#lyrics for all ids\n",
    "lyrics_total = []\n",
    "for i in range(len(tracks_df)):\n",
    "    try:\n",
    "        track = get_lyrics(tracks_df['artist'][i], tracks_df['song_name'][i]).get_text()\n",
    "    except:\n",
    "        track = None\n",
    "    lyrics_total.append(track)"
   ]
  },
  {
   "cell_type": "code",
   "execution_count": 1,
   "metadata": {},
   "outputs": [
    {
     "ename": "NameError",
     "evalue": "name 'tracks_df' is not defined",
     "output_type": "error",
     "traceback": [
      "\u001b[0;31m---------------------------------------------------------------------------\u001b[0m",
      "\u001b[0;31mNameError\u001b[0m                                 Traceback (most recent call last)",
      "\u001b[0;32m<ipython-input-1-330780ac5c7d>\u001b[0m in \u001b[0;36m<module>\u001b[0;34m\u001b[0m\n\u001b[0;32m----> 1\u001b[0;31m \u001b[0mtracks_df\u001b[0m\u001b[0;34m\u001b[0m\u001b[0;34m\u001b[0m\u001b[0m\n\u001b[0m",
      "\u001b[0;31mNameError\u001b[0m: name 'tracks_df' is not defined"
     ]
    }
   ],
   "source": [
    "tracks_df"
   ]
  },
  {
   "cell_type": "markdown",
   "metadata": {},
   "source": [
    "### Text cleaning"
   ]
  },
  {
   "cell_type": "code",
   "execution_count": 3,
   "metadata": {},
   "outputs": [
    {
     "ename": "NameError",
     "evalue": "name 'tracks_df' is not defined",
     "output_type": "error",
     "traceback": [
      "\u001b[0;31m---------------------------------------------------------------------------\u001b[0m",
      "\u001b[0;31mNameError\u001b[0m                                 Traceback (most recent call last)",
      "\u001b[0;32m<ipython-input-3-330780ac5c7d>\u001b[0m in \u001b[0;36m<module>\u001b[0;34m\u001b[0m\n\u001b[0;32m----> 1\u001b[0;31m \u001b[0mtracks_df\u001b[0m\u001b[0;34m\u001b[0m\u001b[0;34m\u001b[0m\u001b[0m\n\u001b[0m",
      "\u001b[0;31mNameError\u001b[0m: name 'tracks_df' is not defined"
     ]
    }
   ],
   "source": [
    "#removing [text]\n",
    "def remove_brackets(lyrics_total):\n",
    "    lyrics_cleaned = []\n",
    "    pattern = r'\\[.*?\\]'\n",
    "    for text in lyrics_total:\n",
    "        try:\n",
    "            text_new = re.sub(pattern, '', text)\n",
    "        except:\n",
    "            text_new = 'None'\n",
    "        lyrics_cleaned.append(text_new)\n",
    "\n",
    "    return lyrics_cleaned\n"
   ]
  },
  {
   "cell_type": "code",
   "execution_count": 1187,
   "metadata": {},
   "outputs": [],
   "source": [
    "lyrics_no_brackets = remove_brackets(lyrics_total)"
   ]
  },
  {
   "cell_type": "code",
   "execution_count": 1188,
   "metadata": {},
   "outputs": [],
   "source": [
    "#separating new paragraphs \n",
    "def separate_paragraphs(lyrics_no_brackets): # string format\n",
    "    lyrics_separate = []\n",
    "    for track in lyrics_no_brackets:\n",
    "        track_cleaned = []\n",
    "        for word in track.split():\n",
    "            word_new = ' '.join(re.split('(?<=[a-z])(?=[A-Z])', word))\n",
    "            track_cleaned.append(word_new)\n",
    "\n",
    "        lyrics = ' '.join(track_cleaned)\n",
    "        lyrics_separate.append(lyrics)\n",
    "    return lyrics_separate"
   ]
  },
  {
   "cell_type": "code",
   "execution_count": 1189,
   "metadata": {},
   "outputs": [],
   "source": [
    "lyrics_separate = separate_paragraphs(lyrics_no_brackets)"
   ]
  },
  {
   "cell_type": "code",
   "execution_count": 1190,
   "metadata": {},
   "outputs": [],
   "source": [
    "#removing punctiations + lemmatization + lowercasing\n",
    "lemmatizer = WordNetLemmatizer()\n",
    "def process_lyrics(lyrics_separate):\n",
    "    lyrics_cleaned = []\n",
    "    for text in lyrics_separate:\n",
    "        text = re.sub('[^a-zA-Z0-9]+\\s*', ' ', text)\n",
    "        text = text.lower()\n",
    "        text = [lemmatizer.lemmatize(word) for word in text.split()]\n",
    "        text = ' '.join(text)\n",
    "        lyrics_cleaned.append(text)\n",
    "\n",
    "    return lyrics_cleaned"
   ]
  },
  {
   "cell_type": "code",
   "execution_count": 1191,
   "metadata": {},
   "outputs": [],
   "source": [
    "lyrics_cleaned = process_lyrics(lyrics_separate)"
   ]
  },
  {
   "cell_type": "code",
   "execution_count": 1192,
   "metadata": {},
   "outputs": [],
   "source": [
    "#stopwords \n",
    "stopwords_list = stopwords.words('english')\n",
    "def remove_stopwords(lyrics_cleaned):\n",
    "    lyrics_list = []\n",
    "    for text in lyrics_cleaned:\n",
    "        text_no_stops = [word for word in text.split() if word not in stopwords_list]\n",
    "        text = ' '.join(text_no_stops)\n",
    "        lyrics_list.append(text)\n",
    "    \n",
    "    return lyrics_list"
   ]
  },
  {
   "cell_type": "code",
   "execution_count": 1193,
   "metadata": {},
   "outputs": [],
   "source": [
    "lyrics_cleaned = remove_stopwords(lyrics_cleaned)"
   ]
  },
  {
   "cell_type": "markdown",
   "metadata": {},
   "source": [
    "# Recommendations by Lyrics"
   ]
  },
  {
   "cell_type": "code",
   "execution_count": 1194,
   "metadata": {},
   "outputs": [],
   "source": [
    "#from sklearn.feature_extraction.text import CountVectorizer\n",
    "#vect = CountVectorizer(lowercase = True, analyzer = 'word', stop_words = 'english')\n",
    "#matrix = pd.DataFrame(matrix.todense(), columns=vect.get_feature_names())"
   ]
  },
  {
   "cell_type": "code",
   "execution_count": 1195,
   "metadata": {},
   "outputs": [],
   "source": [
    "#list(set(em.split()) & set(west.split()))"
   ]
  },
  {
   "cell_type": "code",
   "execution_count": 1196,
   "metadata": {},
   "outputs": [
    {
     "data": {
      "text/plain": [
       "<AxesSubplot:>"
      ]
     },
     "execution_count": 1196,
     "metadata": {},
     "output_type": "execute_result"
    },
    {
     "data": {
      "image/png": "[encoded data removed]",
      "text/plain": [
       "<Figure size 864x576 with 2 Axes>"
      ]
     },
     "metadata": {
      "needs_background": "light"
     },
     "output_type": "display_data"
    }
   ],
   "source": [
    "plt.figure(figsize = (12, 8))\n",
    "sns.heatmap(tracks_df.iloc[:, 2:].corr(), annot = True)"
   ]
  },
  {
   "cell_type": "markdown",
   "metadata": {},
   "source": [
    "### Gensim, doc2vec model"
   ]
  },
  {
   "cell_type": "code",
   "execution_count": 1197,
   "metadata": {},
   "outputs": [],
   "source": [
    "from gensim.models.doc2vec import Doc2Vec, TaggedDocument\n",
    "import nltk"
   ]
  },
  {
   "cell_type": "code",
   "execution_count": 1198,
   "metadata": {},
   "outputs": [],
   "source": [
    "train_corpus = [TaggedDocument(words=nltk.word_tokenize(text.lower()), tags=[str(i)]) for i, text in list(enumerate(lyrics_cleaned))]"
   ]
  },
  {
   "cell_type": "code",
   "execution_count": 1199,
   "metadata": {},
   "outputs": [],
   "source": [
    "model = Doc2Vec(vector_size = 50, min_count = 2, epochs = 10, dm = 0, workers = 3)\n",
    "model.build_vocab(train_corpus)\n",
    "model.train(train_corpus, total_examples=model.corpus_count, epochs=model.epochs)"
   ]
  },
  {
   "cell_type": "code",
   "execution_count": 1200,
   "metadata": {},
   "outputs": [],
   "source": [
    "vectors = []\n",
    "for i in range(len(train_corpus)):\n",
    "    vector = model.infer_vector(train_corpus[i][0])\n",
    "    vectors.append(vector)"
   ]
  },
  {
   "cell_type": "code",
   "execution_count": 1201,
   "metadata": {},
   "outputs": [],
   "source": [
    "vectors_df = pd.DataFrame(data = vectors, index = tracks_df.index)"
   ]
  },
  {
   "cell_type": "code",
   "execution_count": 1202,
   "metadata": {},
   "outputs": [],
   "source": [
    "vector_matrix = sparse.csr_matrix(np.array(vectors_df))\n",
    "similarities = cosine_similarity(vector_matrix)\n",
    "similarities_df = pd.DataFrame(similarities, index = tracks_df.index, columns = tracks_df.index)\n",
    "#remove none texts\n",
    "id2text = dict(zip(tracks_df.index, lyrics_cleaned))\n",
    "#right ids\n",
    "is_lyrics = [id for id in id2text.keys() if id2text[id] != 'none']\n",
    "#only tracks with parsed lyrics\n",
    "similarities_df = similarities_df.loc[is_lyrics, is_lyrics]\n",
    "#avoiding self-recommendation\n",
    "similarities_df.values[[np.arange(similarities_df.shape[0])]*2] = -1"
   ]
  },
  {
   "cell_type": "code",
   "execution_count": 1203,
   "metadata": {},
   "outputs": [
    {
     "data": {
      "text/html": [
       "<div>\n",
       "<style scoped>\n",
       "    .dataframe tbody tr th:only-of-type {\n",
       "        vertical-align: middle;\n",
       "    }\n",
       "\n",
       "    .dataframe tbody tr th {\n",
       "        vertical-align: top;\n",
       "    }\n",
       "\n",
       "    .dataframe thead th {\n",
       "        text-align: right;\n",
       "    }\n",
       "</style>\n",
       "<table border=\"1\" class=\"dataframe\">\n",
       "  <thead>\n",
       "    <tr style=\"text-align: right;\">\n",
       "      <th>track_id</th>\n",
       "      <th>2UREu1Y8CO4jXkbvqAtP7g</th>\n",
       "      <th>1ZHYJ2Wwgxes4m8Ba88PeK</th>\n",
       "      <th>4GssB27iJeqmfGxS94Tfij</th>\n",
       "      <th>48RrDBpOSSl1aLVCalGl5C</th>\n",
       "      <th>1qAuIPMALdFtGv2Ymjy5l0</th>\n",
       "      <th>2ihCaVdNZmnHZWt0fvAM7B</th>\n",
       "      <th>2FUNBaa5DwItJtYEBgAblU</th>\n",
       "      <th>0SiywuOBRcynK0uKGWdCnn</th>\n",
       "      <th>2Xaw1RrXP3mdooKWysuRJ8</th>\n",
       "      <th>4F7A0DXBrmUAkp32uenhZt</th>\n",
       "      <th>7GbUWl6qLW1gdngbEV2WDJ</th>\n",
       "      <th>7u9BIFBgxuqntGW7wO5lMs</th>\n",
       "    </tr>\n",
       "    <tr>\n",
       "      <th>track_id</th>\n",
       "      <th></th>\n",
       "      <th></th>\n",
       "      <th></th>\n",
       "      <th></th>\n",
       "      <th></th>\n",
       "      <th></th>\n",
       "      <th></th>\n",
       "      <th></th>\n",
       "      <th></th>\n",
       "      <th></th>\n",
       "      <th></th>\n",
       "      <th></th>\n",
       "    </tr>\n",
       "  </thead>\n",
       "  <tbody>\n",
       "    <tr>\n",
       "      <th>0SiywuOBRcynK0uKGWdCnn</th>\n",
       "      <td>0.980988</td>\n",
       "      <td>0.970473</td>\n",
       "      <td>0.982582</td>\n",
       "      <td>0.982193</td>\n",
       "      <td>0.971815</td>\n",
       "      <td>0.952559</td>\n",
       "      <td>0.982454</td>\n",
       "      <td>-1.000000</td>\n",
       "      <td>0.932066</td>\n",
       "      <td>0.982153</td>\n",
       "      <td>0.575429</td>\n",
       "      <td>0.979208</td>\n",
       "    </tr>\n",
       "    <tr>\n",
       "      <th>2Xaw1RrXP3mdooKWysuRJ8</th>\n",
       "      <td>0.929357</td>\n",
       "      <td>0.914065</td>\n",
       "      <td>0.928169</td>\n",
       "      <td>0.941726</td>\n",
       "      <td>0.916825</td>\n",
       "      <td>0.889676</td>\n",
       "      <td>0.939153</td>\n",
       "      <td>0.932066</td>\n",
       "      <td>-1.000000</td>\n",
       "      <td>0.933592</td>\n",
       "      <td>0.529605</td>\n",
       "      <td>0.932113</td>\n",
       "    </tr>\n",
       "    <tr>\n",
       "      <th>4F7A0DXBrmUAkp32uenhZt</th>\n",
       "      <td>0.990611</td>\n",
       "      <td>0.980869</td>\n",
       "      <td>0.990467</td>\n",
       "      <td>0.991123</td>\n",
       "      <td>0.975848</td>\n",
       "      <td>0.958970</td>\n",
       "      <td>0.993629</td>\n",
       "      <td>0.982153</td>\n",
       "      <td>0.933592</td>\n",
       "      <td>-1.000000</td>\n",
       "      <td>0.593497</td>\n",
       "      <td>0.992846</td>\n",
       "    </tr>\n",
       "    <tr>\n",
       "      <th>7GbUWl6qLW1gdngbEV2WDJ</th>\n",
       "      <td>0.570500</td>\n",
       "      <td>0.556008</td>\n",
       "      <td>0.583585</td>\n",
       "      <td>0.573172</td>\n",
       "      <td>0.593972</td>\n",
       "      <td>0.556279</td>\n",
       "      <td>0.586330</td>\n",
       "      <td>0.575429</td>\n",
       "      <td>0.529605</td>\n",
       "      <td>0.593497</td>\n",
       "      <td>-1.000000</td>\n",
       "      <td>0.592879</td>\n",
       "    </tr>\n",
       "    <tr>\n",
       "      <th>7u9BIFBgxuqntGW7wO5lMs</th>\n",
       "      <td>0.989506</td>\n",
       "      <td>0.976332</td>\n",
       "      <td>0.990720</td>\n",
       "      <td>0.989708</td>\n",
       "      <td>0.977027</td>\n",
       "      <td>0.960160</td>\n",
       "      <td>0.993058</td>\n",
       "      <td>0.979208</td>\n",
       "      <td>0.932113</td>\n",
       "      <td>0.992846</td>\n",
       "      <td>0.592879</td>\n",
       "      <td>-1.000000</td>\n",
       "    </tr>\n",
       "  </tbody>\n",
       "</table>\n",
       "</div>"
      ],
      "text/plain": [
       "track_id                2UREu1Y8CO4jXkbvqAtP7g  1ZHYJ2Wwgxes4m8Ba88PeK  \\\n",
       "track_id                                                                 \n",
       "0SiywuOBRcynK0uKGWdCnn                0.980988                0.970473   \n",
       "2Xaw1RrXP3mdooKWysuRJ8                0.929357                0.914065   \n",
       "4F7A0DXBrmUAkp32uenhZt                0.990611                0.980869   \n",
       "7GbUWl6qLW1gdngbEV2WDJ                0.570500                0.556008   \n",
       "7u9BIFBgxuqntGW7wO5lMs                0.989506                0.976332   \n",
       "\n",
       "track_id                4GssB27iJeqmfGxS94Tfij  48RrDBpOSSl1aLVCalGl5C  \\\n",
       "track_id                                                                 \n",
       "0SiywuOBRcynK0uKGWdCnn                0.982582                0.982193   \n",
       "2Xaw1RrXP3mdooKWysuRJ8                0.928169                0.941726   \n",
       "4F7A0DXBrmUAkp32uenhZt                0.990467                0.991123   \n",
       "7GbUWl6qLW1gdngbEV2WDJ                0.583585                0.573172   \n",
       "7u9BIFBgxuqntGW7wO5lMs                0.990720                0.989708   \n",
       "\n",
       "track_id                1qAuIPMALdFtGv2Ymjy5l0  2ihCaVdNZmnHZWt0fvAM7B  \\\n",
       "track_id                                                                 \n",
       "0SiywuOBRcynK0uKGWdCnn                0.971815                0.952559   \n",
       "2Xaw1RrXP3mdooKWysuRJ8                0.916825                0.889676   \n",
       "4F7A0DXBrmUAkp32uenhZt                0.975848                0.958970   \n",
       "7GbUWl6qLW1gdngbEV2WDJ                0.593972                0.556279   \n",
       "7u9BIFBgxuqntGW7wO5lMs                0.977027                0.960160   \n",
       "\n",
       "track_id                2FUNBaa5DwItJtYEBgAblU  0SiywuOBRcynK0uKGWdCnn  \\\n",
       "track_id                                                                 \n",
       "0SiywuOBRcynK0uKGWdCnn                0.982454               -1.000000   \n",
       "2Xaw1RrXP3mdooKWysuRJ8                0.939153                0.932066   \n",
       "4F7A0DXBrmUAkp32uenhZt                0.993629                0.982153   \n",
       "7GbUWl6qLW1gdngbEV2WDJ                0.586330                0.575429   \n",
       "7u9BIFBgxuqntGW7wO5lMs                0.993058                0.979208   \n",
       "\n",
       "track_id                2Xaw1RrXP3mdooKWysuRJ8  4F7A0DXBrmUAkp32uenhZt  \\\n",
       "track_id                                                                 \n",
       "0SiywuOBRcynK0uKGWdCnn                0.932066                0.982153   \n",
       "2Xaw1RrXP3mdooKWysuRJ8               -1.000000                0.933592   \n",
       "4F7A0DXBrmUAkp32uenhZt                0.933592               -1.000000   \n",
       "7GbUWl6qLW1gdngbEV2WDJ                0.529605                0.593497   \n",
       "7u9BIFBgxuqntGW7wO5lMs                0.932113                0.992846   \n",
       "\n",
       "track_id                7GbUWl6qLW1gdngbEV2WDJ  7u9BIFBgxuqntGW7wO5lMs  \n",
       "track_id                                                                \n",
       "0SiywuOBRcynK0uKGWdCnn                0.575429                0.979208  \n",
       "2Xaw1RrXP3mdooKWysuRJ8                0.529605                0.932113  \n",
       "4F7A0DXBrmUAkp32uenhZt                0.593497                0.992846  \n",
       "7GbUWl6qLW1gdngbEV2WDJ               -1.000000                0.592879  \n",
       "7u9BIFBgxuqntGW7wO5lMs                0.592879               -1.000000  "
      ]
     },
     "execution_count": 1203,
     "metadata": {},
     "output_type": "execute_result"
    }
   ],
   "source": [
    "similarities_df.tail()"
   ]
  },
  {
   "cell_type": "code",
   "execution_count": 1204,
   "metadata": {},
   "outputs": [
    {
     "data": {
      "text/html": [
       "<div>\n",
       "<style scoped>\n",
       "    .dataframe tbody tr th:only-of-type {\n",
       "        vertical-align: middle;\n",
       "    }\n",
       "\n",
       "    .dataframe tbody tr th {\n",
       "        vertical-align: top;\n",
       "    }\n",
       "\n",
       "    .dataframe thead th {\n",
       "        text-align: right;\n",
       "    }\n",
       "</style>\n",
       "<table border=\"1\" class=\"dataframe\">\n",
       "  <thead>\n",
       "    <tr style=\"text-align: right;\">\n",
       "      <th></th>\n",
       "      <th>artist</th>\n",
       "      <th>song_name</th>\n",
       "      <th>full_name</th>\n",
       "    </tr>\n",
       "    <tr>\n",
       "      <th>track_id</th>\n",
       "      <th></th>\n",
       "      <th></th>\n",
       "      <th></th>\n",
       "    </tr>\n",
       "  </thead>\n",
       "  <tbody>\n",
       "    <tr>\n",
       "      <th>2UREu1Y8CO4jXkbvqAtP7g</th>\n",
       "      <td>Skillet</td>\n",
       "      <td>Monster</td>\n",
       "      <td>Skillet Monster</td>\n",
       "    </tr>\n",
       "    <tr>\n",
       "      <th>1ZHYJ2Wwgxes4m8Ba88PeK</th>\n",
       "      <td>Kanye West</td>\n",
       "      <td>Monster</td>\n",
       "      <td>Kanye West Monster</td>\n",
       "    </tr>\n",
       "    <tr>\n",
       "      <th>4GssB27iJeqmfGxS94Tfij</th>\n",
       "      <td>Falling In Reverse</td>\n",
       "      <td>Popular Monster</td>\n",
       "      <td>Falling In Reverse Popular Monster</td>\n",
       "    </tr>\n",
       "  </tbody>\n",
       "</table>\n",
       "</div>"
      ],
      "text/plain": [
       "                                    artist        song_name  \\\n",
       "track_id                                                      \n",
       "2UREu1Y8CO4jXkbvqAtP7g             Skillet          Monster   \n",
       "1ZHYJ2Wwgxes4m8Ba88PeK          Kanye West          Monster   \n",
       "4GssB27iJeqmfGxS94Tfij  Falling In Reverse  Popular Monster   \n",
       "\n",
       "                                                 full_name  \n",
       "track_id                                                    \n",
       "2UREu1Y8CO4jXkbvqAtP7g                     Skillet Monster  \n",
       "1ZHYJ2Wwgxes4m8Ba88PeK                  Kanye West Monster  \n",
       "4GssB27iJeqmfGxS94Tfij  Falling In Reverse Popular Monster  "
      ]
     },
     "execution_count": 1204,
     "metadata": {},
     "output_type": "execute_result"
    }
   ],
   "source": [
    "id2track.head(3)"
   ]
  },
  {
   "cell_type": "code",
   "execution_count": 1205,
   "metadata": {},
   "outputs": [],
   "source": [
    "def get_recommendation_by_lyrics(track_full_name, n = 3): # <artist> <song_name>, number of recommendations\n",
    "    try:\n",
    "        track_id = id2track[id2track.full_name == track_full_name].index[0]\n",
    "        recommendation_list = list(similarities_df.loc[track_id, :].sort_values(ascending = False)[:n].index)\n",
    "        track_names = [f'{id2track.loc[rec][1]} by {id2track.loc[rec][0]}' for rec in recommendation_list]\n",
    "        track_url_list = [f'https://open.spotify.com/track/{rec}' for rec in recommendation_list]\n",
    "        return track_names, track_url_list\n",
    "\n",
    "    except:\n",
    "        return \"Track is not found\""
   ]
  },
  {
   "cell_type": "code",
   "execution_count": 1206,
   "metadata": {},
   "outputs": [
    {
     "data": {
      "text/plain": [
       "(['monster by 21 Savage',\n",
       "  'Demons and Monsters by 347aidan',\n",
       "  'Party Monster by The Weeknd'],\n",
       " ['https://open.spotify.com/track/2FUNBaa5DwItJtYEBgAblU',\n",
       "  'https://open.spotify.com/track/7u9BIFBgxuqntGW7wO5lMs',\n",
       "  'https://open.spotify.com/track/4F7A0DXBrmUAkp32uenhZt'])"
      ]
     },
     "execution_count": 1206,
     "metadata": {},
     "output_type": "execute_result"
    }
   ],
   "source": [
    "get_recommendation_by_lyrics('Falling In Reverse Popular Monster')"
   ]
  },
  {
   "cell_type": "markdown",
   "metadata": {},
   "source": [
    "### Single prediction"
   ]
  },
  {
   "cell_type": "markdown",
   "metadata": {},
   "source": [
    "class MusicGuru:\n",
    "    def __init__(self, input_track):\n",
    "        self.input_track = input_track\n",
    "\n",
    "    def get_recommendation_by_lyrics(self, n):\n",
    "\n",
    "    def delete_track_from_database(self, database_type):\n",
    "\n",
    "    def get_recommendation_by_characteristics(....)\n",
    "\n",
    "    def plot_track_characteristics(...)\n",
    "\n",
    "    def plot_artist_comparison(...)"
   ]
  },
  {
   "cell_type": "code",
   "execution_count": 1228,
   "metadata": {},
   "outputs": [
    {
     "data": {
      "text/html": [
       "<div>\n",
       "<style scoped>\n",
       "    .dataframe tbody tr th:only-of-type {\n",
       "        vertical-align: middle;\n",
       "    }\n",
       "\n",
       "    .dataframe tbody tr th {\n",
       "        vertical-align: top;\n",
       "    }\n",
       "\n",
       "    .dataframe thead th {\n",
       "        text-align: right;\n",
       "    }\n",
       "</style>\n",
       "<table border=\"1\" class=\"dataframe\">\n",
       "  <thead>\n",
       "    <tr style=\"text-align: right;\">\n",
       "      <th></th>\n",
       "      <th>artist</th>\n",
       "      <th>song_name</th>\n",
       "      <th>danceability</th>\n",
       "      <th>energy</th>\n",
       "      <th>key</th>\n",
       "      <th>loudness</th>\n",
       "      <th>speechiness</th>\n",
       "      <th>acousticness</th>\n",
       "      <th>instrumentalness</th>\n",
       "      <th>liveness</th>\n",
       "      <th>valence</th>\n",
       "      <th>tempo</th>\n",
       "    </tr>\n",
       "    <tr>\n",
       "      <th>track_id</th>\n",
       "      <th></th>\n",
       "      <th></th>\n",
       "      <th></th>\n",
       "      <th></th>\n",
       "      <th></th>\n",
       "      <th></th>\n",
       "      <th></th>\n",
       "      <th></th>\n",
       "      <th></th>\n",
       "      <th></th>\n",
       "      <th></th>\n",
       "      <th></th>\n",
       "    </tr>\n",
       "  </thead>\n",
       "  <tbody>\n",
       "    <tr>\n",
       "      <th>2UREu1Y8CO4jXkbvqAtP7g</th>\n",
       "      <td>Skillet</td>\n",
       "      <td>Monster</td>\n",
       "      <td>0.640</td>\n",
       "      <td>0.957</td>\n",
       "      <td>8</td>\n",
       "      <td>-2.336</td>\n",
       "      <td>0.0741</td>\n",
       "      <td>0.04310</td>\n",
       "      <td>0.0000</td>\n",
       "      <td>0.0789</td>\n",
       "      <td>0.6920</td>\n",
       "      <td>134.992</td>\n",
       "    </tr>\n",
       "    <tr>\n",
       "      <th>1ZHYJ2Wwgxes4m8Ba88PeK</th>\n",
       "      <td>Kanye West</td>\n",
       "      <td>Monster</td>\n",
       "      <td>0.628</td>\n",
       "      <td>0.692</td>\n",
       "      <td>2</td>\n",
       "      <td>-5.640</td>\n",
       "      <td>0.2020</td>\n",
       "      <td>0.00244</td>\n",
       "      <td>0.0129</td>\n",
       "      <td>0.6680</td>\n",
       "      <td>0.0963</td>\n",
       "      <td>124.887</td>\n",
       "    </tr>\n",
       "    <tr>\n",
       "      <th>4GssB27iJeqmfGxS94Tfij</th>\n",
       "      <td>Falling In Reverse</td>\n",
       "      <td>Popular Monster</td>\n",
       "      <td>0.461</td>\n",
       "      <td>0.897</td>\n",
       "      <td>3</td>\n",
       "      <td>-3.982</td>\n",
       "      <td>0.0920</td>\n",
       "      <td>0.00821</td>\n",
       "      <td>0.0000</td>\n",
       "      <td>0.0965</td>\n",
       "      <td>0.3580</td>\n",
       "      <td>165.107</td>\n",
       "    </tr>\n",
       "    <tr>\n",
       "      <th>0tyR7Bu9P086aWBFZ4QJoo</th>\n",
       "      <td>All Time Low</td>\n",
       "      <td>Monsters (feat. blackbear)</td>\n",
       "      <td>0.369</td>\n",
       "      <td>0.845</td>\n",
       "      <td>0</td>\n",
       "      <td>-3.449</td>\n",
       "      <td>0.0611</td>\n",
       "      <td>0.04930</td>\n",
       "      <td>0.0000</td>\n",
       "      <td>0.4160</td>\n",
       "      <td>0.7820</td>\n",
       "      <td>78.532</td>\n",
       "    </tr>\n",
       "    <tr>\n",
       "      <th>48RrDBpOSSl1aLVCalGl5C</th>\n",
       "      <td>Eminem</td>\n",
       "      <td>The Monster</td>\n",
       "      <td>0.781</td>\n",
       "      <td>0.853</td>\n",
       "      <td>1</td>\n",
       "      <td>-3.680</td>\n",
       "      <td>0.0715</td>\n",
       "      <td>0.05250</td>\n",
       "      <td>0.0000</td>\n",
       "      <td>0.1200</td>\n",
       "      <td>0.6240</td>\n",
       "      <td>110.049</td>\n",
       "    </tr>\n",
       "  </tbody>\n",
       "</table>\n",
       "</div>"
      ],
      "text/plain": [
       "                                    artist                   song_name  \\\n",
       "track_id                                                                 \n",
       "2UREu1Y8CO4jXkbvqAtP7g             Skillet                     Monster   \n",
       "1ZHYJ2Wwgxes4m8Ba88PeK          Kanye West                     Monster   \n",
       "4GssB27iJeqmfGxS94Tfij  Falling In Reverse             Popular Monster   \n",
       "0tyR7Bu9P086aWBFZ4QJoo        All Time Low  Monsters (feat. blackbear)   \n",
       "48RrDBpOSSl1aLVCalGl5C              Eminem                 The Monster   \n",
       "\n",
       "                        danceability  energy  key  loudness  speechiness  \\\n",
       "track_id                                                                   \n",
       "2UREu1Y8CO4jXkbvqAtP7g         0.640   0.957    8    -2.336       0.0741   \n",
       "1ZHYJ2Wwgxes4m8Ba88PeK         0.628   0.692    2    -5.640       0.2020   \n",
       "4GssB27iJeqmfGxS94Tfij         0.461   0.897    3    -3.982       0.0920   \n",
       "0tyR7Bu9P086aWBFZ4QJoo         0.369   0.845    0    -3.449       0.0611   \n",
       "48RrDBpOSSl1aLVCalGl5C         0.781   0.853    1    -3.680       0.0715   \n",
       "\n",
       "                        acousticness  instrumentalness  liveness  valence  \\\n",
       "track_id                                                                    \n",
       "2UREu1Y8CO4jXkbvqAtP7g       0.04310            0.0000    0.0789   0.6920   \n",
       "1ZHYJ2Wwgxes4m8Ba88PeK       0.00244            0.0129    0.6680   0.0963   \n",
       "4GssB27iJeqmfGxS94Tfij       0.00821            0.0000    0.0965   0.3580   \n",
       "0tyR7Bu9P086aWBFZ4QJoo       0.04930            0.0000    0.4160   0.7820   \n",
       "48RrDBpOSSl1aLVCalGl5C       0.05250            0.0000    0.1200   0.6240   \n",
       "\n",
       "                          tempo  \n",
       "track_id                         \n",
       "2UREu1Y8CO4jXkbvqAtP7g  134.992  \n",
       "1ZHYJ2Wwgxes4m8Ba88PeK  124.887  \n",
       "4GssB27iJeqmfGxS94Tfij  165.107  \n",
       "0tyR7Bu9P086aWBFZ4QJoo   78.532  \n",
       "48RrDBpOSSl1aLVCalGl5C  110.049  "
      ]
     },
     "execution_count": 1228,
     "metadata": {},
     "output_type": "execute_result"
    }
   ],
   "source": [
    "tracks_df.head()"
   ]
  },
  {
   "cell_type": "code",
   "execution_count": 1207,
   "metadata": {},
   "outputs": [],
   "source": [
    "class MusicGuru:\n",
    "    def __init__(self, input_track):\n",
    "        self.input_track = input_track\n",
    "\n",
    "    def get_recommendation_by_lyrics(self, n):\n",
    "        input_artist = sp.track(self.input_track)['artists'][0]['name']\n",
    "        input_name = sp.track(self.input_track)['name']\n",
    "        input_features = sp.audio_features(self.input_track)\n",
    "        d = {'artist': input_artist, 'song_name': input_name}\n",
    "        d.update(input_features[0])\n",
    "        track_data = pd.DataFrame([d], index = [self.input_track]).iloc[0, :13]\n",
    "\n",
    "        #get lyrics\n",
    "        try:\n",
    "            lyrics = get_lyrics(track_data['artist'], track_data['song_name']).get_text()\n",
    "        except:\n",
    "            lyrics = None\n",
    "\n",
    "         #if no lyrics found   \n",
    "        if lyrics == None:\n",
    "            return 'Unfortunately, we are unable to find any lyrics. Try another track!'\n",
    "        \n",
    "        global tracks_df\n",
    "        global id2track\n",
    "        global vectors_df\n",
    "        global vector_matrix #eliminate\n",
    "        global similarities_df\n",
    "        global is_lyrics #eliminate\n",
    "\n",
    "        if self.input_track in tracks_df.index:\n",
    "            track_full_name = id2track.loc[self.input_track]['full_name']\n",
    "            track_id = id2track[id2track.full_name == track_full_name].index[0]\n",
    "            recommendation_list = list(similarities_df.loc[track_id, :].sort_values(ascending = False)[:n].index)\n",
    "            track_names = [f'{id2track.loc[rec][1]} by {id2track.loc[rec][0]}' for rec in recommendation_list]\n",
    "            track_url_list = [f'https://open.spotify.com/track/{rec}' for rec in recommendation_list]\n",
    "            return track_names, track_url_list\n",
    "\n",
    "        else:   \n",
    "            #remove brackets\n",
    "            track_no_brackets = remove_brackets([lyrics])\n",
    "\n",
    "            #separate paragraphs\n",
    "            track_separate = separate_paragraphs(track_no_brackets)\n",
    "\n",
    "            #cleaning\n",
    "            track_processed = process_lyrics(track_separate)\n",
    "\n",
    "            #stopwords\n",
    "            track_no_stopwords = remove_stopwords(track_processed)\n",
    "\n",
    "            #vectorizing the input\n",
    "            track_vector = model.infer_vector(track_no_stopwords)\n",
    "            track_vector = pd.DataFrame(data = [track_vector], index = [self.input_track])\n",
    "\n",
    "            #return track_data, track_vector # data for track_df, vector for the rest\n",
    "\n",
    "            \n",
    "           #globals\n",
    "\n",
    "            #updating dataframes\n",
    "            tracks_df = tracks_df.append(track_data)\n",
    "            tracks_df.drop('mode', inplace = True, axis = 1)\n",
    "            id2track.loc[tracks_df.index[-1], 'artist'] = tracks_df.loc[tracks_df.index[-1], 'artist'] \n",
    "            id2track.loc[tracks_df.index[-1], 'song_name'] = tracks_df.loc[tracks_df.index[-1], 'song_name'] \n",
    "            id2track.loc[tracks_df.index[-1], 'full_name'] = id2track.loc[id2track.index[-1], 'artist'] + ' ' + id2track.loc[id2track.index[-1], 'song_name']\n",
    "\n",
    "            vectors_df = vectors_df.append(track_vector)\n",
    "\n",
    "            is_lyrics.append(self.input_track)\n",
    "\n",
    "            #cosine\n",
    "            track_cosine = cosine_similarity(vector_matrix, track_vector)\n",
    "            track_cosine = np.append(track_cosine, -1)\n",
    "            track_cosine = pd.DataFrame(track_cosine, index = id2track.index).transpose()\n",
    "            track_cosine = track_cosine[is_lyrics]\n",
    "            track_cosine.index = [self.input_track]\n",
    "            track_cosine = track_cosine[track_cosine.columns.unique()]\n",
    "\n",
    "            #updating similarity data\n",
    "            similarities_df[self.input_track] = track_cosine.transpose()\n",
    "            similarities_df = similarities_df.append(track_cosine)\n",
    "\n",
    "            #updating matrix for further recs\n",
    "            vector_matrix = sparse.csr_matrix(np.array(vectors_df))\n",
    "\n",
    "            #return similarities_df.shape, len(is_lyrics)\n",
    "\n",
    "            try:\n",
    "                track_full_name = id2track.loc[self.input_track]['full_name']\n",
    "                track_id = id2track[id2track.full_name == track_full_name].index[0]\n",
    "                recommendation_list = list(similarities_df.loc[track_id, :].sort_values(ascending = False)[:n].index)\n",
    "                track_names = [f'{id2track.loc[rec][1]} by {id2track.loc[rec][0]}' for rec in recommendation_list]\n",
    "                track_url_list = [f'https://open.spotify.com/track/{rec}' for rec in recommendation_list]\n",
    "                return track_names, track_url_list\n",
    "\n",
    "            except:\n",
    "                return \"Track is not found\"\n",
    "        "
   ]
  },
  {
   "cell_type": "code",
   "execution_count": 1208,
   "metadata": {},
   "outputs": [
    {
     "data": {
      "text/plain": [
       "(['monster by 21 Savage',\n",
       "  'Party Monster by The Weeknd',\n",
       "  'Popular Monster by Falling In Reverse'],\n",
       " ['https://open.spotify.com/track/2FUNBaa5DwItJtYEBgAblU',\n",
       "  'https://open.spotify.com/track/4F7A0DXBrmUAkp32uenhZt',\n",
       "  'https://open.spotify.com/track/4GssB27iJeqmfGxS94Tfij'])"
      ]
     },
     "execution_count": 1208,
     "metadata": {},
     "output_type": "execute_result"
    }
   ],
   "source": [
    "#no lyrics 0tyR7Bu9P086aWBFZ4QJoo\n",
    "#already in DB 2UREu1Y8CO4jXkbvqAtP7g\n",
    "#new 0qo1JukfClmpHnUOJxpFXi\n",
    "guru = MusicGuru('2UREu1Y8CO4jXkbvqAtP7g')\n",
    "guru.get_recommendation_by_lyrics(3)"
   ]
  },
  {
   "cell_type": "code",
   "execution_count": 1211,
   "metadata": {},
   "outputs": [
    {
     "data": {
      "text/plain": [
       "(['Monster by Imagine Dragons',\n",
       "  'The Monster by Eminem',\n",
       "  'Monster by Kanye West'],\n",
       " ['https://open.spotify.com/track/2Xaw1RrXP3mdooKWysuRJ8',\n",
       "  'https://open.spotify.com/track/48RrDBpOSSl1aLVCalGl5C',\n",
       "  'https://open.spotify.com/track/1ZHYJ2Wwgxes4m8Ba88PeK'])"
      ]
     },
     "execution_count": 1211,
     "metadata": {},
     "output_type": "execute_result"
    }
   ],
   "source": [
    "#new 0qo1JukfClmpHnUOJxpFXi\n",
    "guru = MusicGuru('0qo1JukfClmpHnUOJxpFXi')\n",
    "guru.get_recommendation_by_lyrics(3)"
   ]
  },
  {
   "cell_type": "code",
   "execution_count": 1229,
   "metadata": {},
   "outputs": [],
   "source": [
    "names = ['Monster by Imagine Dragons',\n",
    "  'The Monster by Eminem',\n",
    "  'Monster by Kanye West']\n",
    "\n",
    "ids = ['2Xaw1RrXP3mdooKWysuRJ8',\n",
    "  '48RrDBpOSSl1aLVCalGl5C',\n",
    "  '1ZHYJ2Wwgxes4m8Ba88PeK']"
   ]
  },
  {
   "cell_type": "code",
   "execution_count": 1232,
   "metadata": {},
   "outputs": [
    {
     "data": {
      "text/plain": [
       "\"[Intro: Rihanna]I'm friends with the monster that's under my bedGet along with the voices inside of my headYou're tryin' to save me, stop holdin' your breathAnd you think I'm crazy, yeah, you think I'm crazy[Verse 1: Eminem]I wanted the fame but not the cover of NewsweekOh well, guess beggars can't be chooseyWanted to receive attention for my musicWanted to be left alone in public, excuse meFor wantin' my cake, and eat it too, and wantin' it both waysFame made me a balloon 'cause my ego inflatedWhen I blew, see, but it was confusing'Cause all I wanted to do's be the Bruce Lee of loose leafAbused ink, used it as a tool when I blew steamWhoo! Hit the lottery, ooh-wee!But with what I gave up to get it was bittersweetIt was like winnin' a used minkIronic 'cause I think I'm gettin' so huge I need a shrinkI'm beginnin' to lose sleep: one sheep, two sheepGoin' coo-coo and kooky as Kool KeithBut I'm actually weirder than you think, 'cause I'm—\""
      ]
     },
     "execution_count": 1232,
     "metadata": {},
     "output_type": "execute_result"
    }
   ],
   "source": [
    "get_lyrics('Eminem', 'The Monster').get_text()"
   ]
  },
  {
   "cell_type": "code",
   "execution_count": null,
   "metadata": {},
   "outputs": [],
   "source": []
  },
  {
   "cell_type": "code",
   "execution_count": null,
   "metadata": {},
   "outputs": [],
   "source": []
  },
  {
   "cell_type": "code",
   "execution_count": null,
   "metadata": {},
   "outputs": [],
   "source": []
  },
  {
   "cell_type": "code",
   "execution_count": 1213,
   "metadata": {},
   "outputs": [
    {
     "data": {
      "text/plain": [
       "'Unfortunately, we are unable to find any lyrics. Try another track!'"
      ]
     },
     "execution_count": 1213,
     "metadata": {},
     "output_type": "execute_result"
    }
   ],
   "source": [
    "#no lyrics 0tyR7Bu9P086aWBFZ4QJoo\n",
    "guru = MusicGuru('0tyR7Bu9P086aWBFZ4QJoo')\n",
    "guru.get_recommendation_by_lyrics(3)"
   ]
  },
  {
   "cell_type": "code",
   "execution_count": 1070,
   "metadata": {},
   "outputs": [],
   "source": [
    "def delete_track_from_database(input_track): #id format\n",
    "    global tracks_df\n",
    "    global id2track\n",
    "    global vectors_df\n",
    "    global vector_matrix\n",
    "    global similarities_df\n",
    "    global is_lyrics\n",
    "    try:\n",
    "        tracks_df = tracks_df[tracks_df.index != input_track] #\n",
    "        id2track = id2track[id2track.index != input_track] #\n",
    "        vectors_df = vectors_df[vectors_df.index != input_track]\n",
    "        vector_matrix = sparse.csr_matrix(np.array(vectors_df))\n",
    "        similarities_df = similarities_df[similarities_df.index != input_track]\n",
    "        similarities_df.drop(input_track, inplace = True, axis = 1)\n",
    "        is_lyrics.pop()\n",
    "        print('Track has been deleted successfully.')\n",
    "    \n",
    "    except:\n",
    "        print('Already deleted.')"
   ]
  },
  {
   "cell_type": "code",
   "execution_count": null,
   "metadata": {},
   "outputs": [],
   "source": []
  },
  {
   "cell_type": "code",
   "execution_count": null,
   "metadata": {},
   "outputs": [],
   "source": []
  },
  {
   "cell_type": "markdown",
   "metadata": {},
   "source": [
    "# Recommendations by characteristics"
   ]
  },
  {
   "cell_type": "markdown",
   "metadata": {},
   "source": [
    "# Visualization"
   ]
  },
  {
   "cell_type": "markdown",
   "metadata": {},
   "source": [
    "### Visualization of track characteristics"
   ]
  },
  {
   "cell_type": "markdown",
   "metadata": {},
   "source": [
    "### t-SNE for artists comparison"
   ]
  }
 ],
 "metadata": {
  "interpreter": {
   "hash": "7f360841077bedc85f6e1678552164e2bbcbbce06b33ab653ea86b15ff9f1e12"
  },
  "kernelspec": {
   "display_name": "Python 3.8.3 ('base')",
   "language": "python",
   "name": "python3"
  },
  "language_info": {
   "codemirror_mode": {
    "name": "ipython",
    "version": 3
   },
   "file_extension": ".py",
   "mimetype": "text/x-python",
   "name": "python",
   "nbconvert_exporter": "python",
   "pygments_lexer": "ipython3",
   "version": "3.8.3"
  },
  "orig_nbformat": 4
 },
 "nbformat": 4,
 "nbformat_minor": 2
}
