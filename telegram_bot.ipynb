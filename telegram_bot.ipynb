{
 "cells": [
  {
   "cell_type": "code",
   "execution_count": 1,
   "metadata": {},
   "outputs": [],
   "source": [
    "import telebot\n",
    "import time\n",
    "import pandas as pd\n",
    "import numpy as np\n",
    "import pathlib\n",
    "from aiogram.utils.markdown import hbold, hlink\n",
    "import difflib as dl\n",
    "import random"
   ]
  },
  {
   "cell_type": "code",
   "execution_count": 27,
   "metadata": {},
   "outputs": [],
   "source": [
    "from scripts.visualization import get_track_visualization\n",
    "from scripts.characteristics_based import get_final_recs"
   ]
  },
  {
   "cell_type": "markdown",
   "metadata": {},
   "source": [
    "TO DO:\n",
    "1) lowercasing - done\n",
    "2) multiple tracks vis\n",
    "3) additional recs per track - permutation\n",
    "4) hosting \n",
    "5) help - ваня \n",
    "6) estimation - остальные"
   ]
  },
  {
   "cell_type": "code",
   "execution_count": 17,
   "metadata": {},
   "outputs": [],
   "source": [
    "def get_track_id(artist, song_name):\n",
    "    id2track = pd.read_csv(str(pathlib.Path().parent.absolute()) + '/data/id2track.csv', index_col=['track_id'])\n",
    "    track_id = id2track[(id2track.song_name == song_name) & (id2track.artist == artist)].index[0]\n",
    "    return track_id\n",
    "    "
   ]
  },
  {
   "cell_type": "code",
   "execution_count": 3,
   "metadata": {},
   "outputs": [],
   "source": [
    "def load_track_data():\n",
    "    return pd.read_csv(str(pathlib.Path().parent.absolute()) + '/data/id2track.csv', index_col=['track_id'])"
   ]
  },
  {
   "cell_type": "code",
   "execution_count": 29,
   "metadata": {},
   "outputs": [],
   "source": [
    "bot = telebot.TeleBot('5218930942:AAGqwa9qRR6oEEhhfw6s8W38fbFq1gEecyc')"
   ]
  },
  {
   "cell_type": "code",
   "execution_count": 30,
   "metadata": {},
   "outputs": [
    {
     "name": "stdout",
     "output_type": "stream",
     "text": [
      "HTTPSConnectionPool(host='api.telegram.org', port=443): Read timed out. (read timeout=25)\n"
     ]
    }
   ],
   "source": [
    "\n",
    "@bot.message_handler(commands = ['start'])\n",
    "def start(message):\n",
    "    hi_message = f'Привет, {message.from_user.first_name}!'\n",
    "    bot.send_message(message.chat.id, hi_message + '\\nНапиши боту \"Я выбрал песню\".')\n",
    "\n",
    "\n",
    "#@bot.message_handler(commands= ['help'])\n",
    "#def help(help_text):\n",
    "#    bot.send_message(message.chat.id, 'Сейчас допишу')\n",
    "\n",
    "\n",
    "\n",
    "@bot.message_handler(func = lambda message: message.text == 'Я выбрал песню')\n",
    "def get_user_text(message):\n",
    "        keyboard = telebot.types.InlineKeyboardMarkup()\n",
    "        keyboard.row(telebot.types.InlineKeyboardButton('Визуализировать трек', callback_data = 'button_vis'))\n",
    "        keyboard.row(telebot.types.InlineKeyboardButton('Получить рекомендацию', callback_data = 'button_rec'))\n",
    "        bot.send_message(message.chat.id, 'Выбери, что ты хочешь увидеть.' + '\\nКнопка \"Визуализировать трек\" покажет тебе график с музыкальными характеристиками. Например, танцевальностью.' + '\\nКнопка \"Получить рекомендацию\" запустит процесс анализа трека и покажет тебе похoжие на него.', reply_markup = keyboard)\n",
    "\n",
    "\n",
    "\n",
    "@bot.callback_query_handler(func = lambda call: call.data == 'button_vis')\n",
    "def newbutton_vis(visualisation):\n",
    "    msg = bot.send_message(visualisation.message.chat.id, 'Введи имя исполнителя!')\n",
    "    bot.register_next_step_handler(msg, artist_name_step_vis)\n",
    "\n",
    "\n",
    "def artist_name_step_vis(msg):\n",
    "    id2track = load_track_data()\n",
    "    artist = msg.text\n",
    "    artist = dl.get_close_matches(artist, np.unique(id2track.artist.values).tolist(), n = 1)[0]\n",
    "    msg = bot.send_message(msg.chat.id, f'Введи название трека у {artist}!')\n",
    "    bot.register_next_step_handler(msg, visualization_step, artist)\n",
    "\n",
    "def visualization_step(msg, artist):\n",
    "    id2track = load_track_data()\n",
    "    track_name = msg.text\n",
    "    track_name = dl.get_close_matches(track_name, np.unique(id2track[id2track.artist == artist].song_name.values).tolist(), n = 1)[0]\n",
    "    try:\n",
    "        plot = get_track_visualization(artist, track_name)\n",
    "        plot.write_image(\"images/fig1.pdf\")#, width=1080, height=1080)\n",
    "        bot.send_photo(msg.chat.id, photo = open('images/fig1.pdf', 'rb'))\n",
    "\n",
    "        keyboard_back = telebot.types.InlineKeyboardMarkup()\n",
    "        keyboard_back.row(telebot.types.InlineKeyboardButton('Вернуться к выбору опций', callback_data = 'button_back'))\n",
    "        bot.send_message(msg.chat.id,  'Нажми на кнопку, если хочешь проверить еще один трек!', reply_markup = keyboard_back)\n",
    "    except: #returns to initial choice\n",
    "        keyboard_back = telebot.types.InlineKeyboardMarkup()\n",
    "        keyboard_back.row(telebot.types.InlineKeyboardButton('Попробовать еще раз', callback_data = 'button_back'))\n",
    "        bot.send_message(msg.chat.id,  'Проверь имя исполнителя и название трека!', reply_markup = keyboard_back)    \n",
    "\n",
    "\n",
    "\n",
    "\n",
    "\n",
    "@bot.callback_query_handler(func = lambda call: call.data == 'button_rec')\n",
    "def newbutton(query):\n",
    "    msg = bot.send_message(query.message.chat.id, 'Введи имя исполнителя!')\n",
    "    bot.register_next_step_handler(msg, artist_name_step)\n",
    "\n",
    "\n",
    "def artist_name_step(msg):\n",
    "    id2track = load_track_data()\n",
    "    artist = msg.text\n",
    "    artist = dl.get_close_matches(artist, np.unique(id2track.artist.values).tolist(), n = 1)[0]\n",
    "    msg = bot.send_message(msg.chat.id, f'Введи название трека у {artist}!')\n",
    "    bot.register_next_step_handler(msg, track_name_step, artist)\n",
    "\n",
    "def track_name_step(msg, artist): \n",
    "    id2track = load_track_data()\n",
    "    track_name = msg.text\n",
    "    track_name = dl.get_close_matches(track_name, np.unique(id2track[id2track.artist == artist].song_name.values).tolist(), n = 1)[0]\n",
    "\n",
    "    user_data = {}\n",
    "    user_data['artist'] = artist\n",
    "    user_data['song_name'] = track_name\n",
    "    msg = bot.send_message(msg.chat.id, f'Сколько треков тебе порекомендовать?')\n",
    "    bot.register_next_step_handler(msg, recommendation_step, user_data)\n",
    "\n",
    "def recommendation_step(msg, user_data):\n",
    "    user_data['n'] = msg.text\n",
    "    try: \n",
    "        track_id = get_track_id(user_data['artist'], user_data['song_name'])\n",
    "        recommendations = get_final_recs(track_id, int(user_data['n']))\n",
    "        for key in recommendations.keys():\n",
    "            bot.send_message(msg.chat.id, f\"{hlink(recommendations[key], key)}\", parse_mode='HTML')\n",
    "\n",
    "        keyboard_back = telebot.types.InlineKeyboardMarkup()\n",
    "        keyboard_back.row(telebot.types.InlineKeyboardButton('Вернуться к выбору опций', callback_data = 'button_back'))\n",
    "        bot.send_message(msg.chat.id,  'Выбери, что делать дальше!', reply_markup = keyboard_back)\n",
    "    \n",
    "\n",
    "    except: #returns to initial choice\n",
    "        keyboard_back = telebot.types.InlineKeyboardMarkup()\n",
    "        keyboard_back.row(telebot.types.InlineKeyboardButton('Попробовать еще раз', callback_data = 'button_back'))\n",
    "        bot.send_message(msg.chat.id,  'Проверь имя исполнителя и название трека!', reply_markup = keyboard_back)    \n",
    "\n",
    "\n",
    "\n",
    "@bot.callback_query_handler(func = lambda call: call.data == 'button_back')\n",
    "def get_user_text_back(message_back):\n",
    "        keyboard = telebot.types.InlineKeyboardMarkup()\n",
    "        keyboard.row(telebot.types.InlineKeyboardButton('Визуализировать трек', callback_data = 'button_vis'))\n",
    "        keyboard.row(telebot.types.InlineKeyboardButton('Получить рекомендацию', callback_data = 'button_rec'))\n",
    "        bot.send_message(message_back.message.chat.id, 'Выбери, что ты хочешь увидеть.' + '\\nКнопка \"Визуализировать трек\" покажет тебе график с музыкальными характеристиками. Например, танцевальностью.' + '\\nКнопка \"Получить рекомендацию\" запустит процесс анализа трека и покажет тебе похoжие на него.', reply_markup = keyboard)\n",
    "\n",
    "#track list by artist\n",
    "@bot.message_handler(func = lambda message: message.text == 'test')\n",
    "def get_artist_name(message):\n",
    "    msg = bot.send_message(message.chat.id, 'Выбери исполнителя!')\n",
    "    bot.register_next_step_handler(msg, get_song_name)\n",
    "\n",
    "def get_song_name(msg):\n",
    "    id2track = load_track_data()\n",
    "    tracks = id2track[id2track.artist == msg.text]['song_name'].values\n",
    "    print(tracks)\n",
    "    bot.send_message(msg.chat.id, tracks)\n",
    "    \n",
    "\n",
    "\n",
    "\n",
    "\n",
    "\n",
    "if __name__ == '__main__': # чтобы код выполнялся только при запуске в виде сценария, а не при импорте модуля\n",
    "    try:\n",
    "       bot.polling(none_stop=True) # запуск бота\n",
    "    except Exception as e:\n",
    "       print(e) # или import traceback; traceback.print_exc() для печати полной инфы\n",
    "       time.sleep(15)"
   ]
  },
  {
   "cell_type": "code",
   "execution_count": 142,
   "metadata": {},
   "outputs": [],
   "source": [
    "bot.stop_polling()"
   ]
  },
  {
   "cell_type": "markdown",
   "metadata": {},
   "source": []
  }
 ],
 "metadata": {
  "interpreter": {
   "hash": "7f360841077bedc85f6e1678552164e2bbcbbce06b33ab653ea86b15ff9f1e12"
  },
  "kernelspec": {
   "display_name": "Python 3.8.3 ('base')",
   "language": "python",
   "name": "python3"
  },
  "language_info": {
   "codemirror_mode": {
    "name": "ipython",
    "version": 3
   },
   "file_extension": ".py",
   "mimetype": "text/x-python",
   "name": "python",
   "nbconvert_exporter": "python",
   "pygments_lexer": "ipython3",
   "version": "3.8.3 (default, Jul  2 2020, 11:26:31) \n[Clang 10.0.0 ]"
  },
  "orig_nbformat": 4
 },
 "nbformat": 4,
 "nbformat_minor": 2
}
